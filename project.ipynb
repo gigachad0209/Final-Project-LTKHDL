{
 "cells": [
  {
   "cell_type": "markdown",
   "metadata": {},
   "source": [
    "# Final Project"
   ]
  },
  {
   "cell_type": "markdown",
   "metadata": {},
   "source": [
    "Group members:\n",
    "- 21127667 - Trương Công Gia Phát\n",
    "- 21127743 - Trần Thái Toàn\n",
    "\n",
    "(Last updated: 8/12/2023)"
   ]
  },
  {
   "cell_type": "markdown",
   "metadata": {},
   "source": [
    "## 1. Collecting data"
   ]
  },
  {
   "cell_type": "markdown",
   "metadata": {},
   "source": [
    "### What subject is your data about?"
   ]
  },
  {
   "cell_type": "markdown",
   "metadata": {},
   "source": [
    "The dataset is a breakdown of every arrest effected in NYC by the NYPD during the current year. "
   ]
  },
  {
   "cell_type": "markdown",
   "metadata": {},
   "source": [
    "### What is the source of your data? Do authors of this data allow you to use like this?"
   ]
  },
  {
   "cell_type": "markdown",
   "metadata": {},
   "source": [
    "Our group found the data on Kaggle and it is licensed by the U.S Government Works."
   ]
  },
  {
   "cell_type": "markdown",
   "metadata": {},
   "source": [
    "### How did authors collect data?"
   ]
  },
  {
   "cell_type": "markdown",
   "metadata": {},
   "source": [
    "This data is manually extracted every quarter and reviewed by the Office of Management Analysis and Planning."
   ]
  },
  {
   "cell_type": "markdown",
   "metadata": {},
   "source": [
    "## 2. Exploring data\n",
    "\n",
    "### Importing libraries"
   ]
  },
  {
   "cell_type": "code",
   "execution_count": 1,
   "metadata": {},
   "outputs": [],
   "source": [
    "import pandas as pd"
   ]
  },
  {
   "cell_type": "code",
   "execution_count": 2,
   "metadata": {},
   "outputs": [],
   "source": [
    "df = pd.read_csv('./data/NYPD_Arrest_Data__Year_to_Date_.csv')"
   ]
  },
  {
   "cell_type": "markdown",
   "metadata": {},
   "source": [
    "### How many rows and how many columns?"
   ]
  },
  {
   "cell_type": "code",
   "execution_count": 3,
   "metadata": {},
   "outputs": [
    {
     "name": "stdout",
     "output_type": "stream",
     "text": [
      "The data has 112571 rows and 19 columns.\n"
     ]
    }
   ],
   "source": [
    "shape = df.shape\n",
    "print(f\"The data has {shape[0]} rows and {shape[1]} columns.\")"
   ]
  },
  {
   "cell_type": "markdown",
   "metadata": {},
   "source": [
    "### What is the meaning of each row?"
   ]
  },
  {
   "cell_type": "markdown",
   "metadata": {},
   "source": [
    "Each record represents an arrest effected in NYC by the NYPD and includes information about the type of crime, the location and time of enforcement."
   ]
  },
  {
   "cell_type": "markdown",
   "metadata": {},
   "source": [
    "### Are there duplicated rows?"
   ]
  },
  {
   "cell_type": "code",
   "execution_count": 4,
   "metadata": {},
   "outputs": [
    {
     "name": "stdout",
     "output_type": "stream",
     "text": [
      "Data have no duplicated line.!\n"
     ]
    }
   ],
   "source": [
    "index = df.index\n",
    "detectDupSeries = index.duplicated(keep='first')\n",
    "num_duplicated_rows = detectDupSeries.sum()\n",
    "\n",
    "if num_duplicated_rows == 0:\n",
    "    print(f\"Data have no duplicated line.!\")\n",
    "else:\n",
    "    if num_duplicated_rows > 1:\n",
    "        ext = \"lines\"\n",
    "    else:\n",
    "        ext = \"line\"\n",
    "    print(f\"Data have {num_duplicated_rows} duplicated \" + ext + \". Please de-deduplicate your raw data.!\")"
   ]
  },
  {
   "cell_type": "markdown",
   "metadata": {},
   "source": [
    "### What is the meaning of each column?"
   ]
  },
  {
   "cell_type": "markdown",
   "metadata": {},
   "source": [
    "- ARREST_KEY : Randomly generated persistent ID for each arrest\n",
    "- ARREST_DATE: Exact date of arrest for the reported event\n",
    "- PD_CD: Three digit internal classification code (more granular than Key Code)\n",
    "- PD_DESC : Description of internal classification corresponding with PD code (more granular than Offense Description)\n",
    "- KY_CD : Three digit internal classification code (more general category than PD code)\n",
    "- OFNS_DESC : Description of internal classification corresponding with KY code (more general category than PD description)\n",
    "- LAW_CODE : Law code charges corresponding to the NYS Penal Law, VTL and other various local laws\n",
    "- LAW_CAT_CD : Level of offense: felony, misdemeanor, violation\n",
    "- ARREST_BORO : Borough of arrest. B(Bronx), S(Staten Island), K(Brooklyn), M(Manhattan), Q(Queens)\n",
    "- ARREST_PRECINCT : Precinct where the arrest occurred\n",
    "- JURISDICTION_CODE : Jurisdiction responsible for arrest. Jurisdiction codes 0(Patrol), 1(Transit) and 2(Housing) represent NYPD whilst codes 3 and more represent non NYPD jurisdictions\n",
    "- AGE_GROUP : Perpetrator’s age within a category\n",
    "- PERP_SEX : Perpetrator’s sex description\n",
    "- PERP_RACE : Perpetrator’s race description\n",
    "- X_COORD_CD : Midblock X-coordinate for New York State Plane Coordinate System, Long Island Zone, NAD 83, units feet (FIPS 3104)\n",
    "- Y_COORD_CD : Midblock Y-coordinate for New York State Plane Coordinate System, Long Island Zone, NAD 83, units feet (FIPS 3104)\n",
    "- Latitude : Latitude coordinate for Global Coordinate System, WGS 1984, decimal degrees (EPSG 4326)\n",
    "- Longitude : Longitude coordinate for Global Coordinate System, WGS 1984, decimal degrees (EPSG 4326)"
   ]
  },
  {
   "cell_type": "markdown",
   "metadata": {},
   "source": [
    "### What is the current data type of each column? Are there columns having inappropriate data types?"
   ]
  },
  {
   "cell_type": "code",
   "execution_count": 5,
   "metadata": {},
   "outputs": [
    {
     "name": "stdout",
     "output_type": "stream",
     "text": [
      "<class 'pandas.core.frame.DataFrame'>\n",
      "RangeIndex: 112571 entries, 0 to 112570\n",
      "Data columns (total 19 columns):\n",
      " #   Column                    Non-Null Count   Dtype  \n",
      "---  ------                    --------------   -----  \n",
      " 0   ARREST_KEY                112571 non-null  int64  \n",
      " 1   ARREST_DATE               112571 non-null  object \n",
      " 2   PD_CD                     112110 non-null  float64\n",
      " 3   PD_DESC                   112571 non-null  object \n",
      " 4   KY_CD                     112105 non-null  float64\n",
      " 5   OFNS_DESC                 112571 non-null  object \n",
      " 6   LAW_CODE                  112571 non-null  object \n",
      " 7   LAW_CAT_CD                111725 non-null  object \n",
      " 8   ARREST_BORO               112571 non-null  object \n",
      " 9   ARREST_PRECINCT           112571 non-null  int64  \n",
      " 10  JURISDICTION_CODE         112571 non-null  int64  \n",
      " 11  AGE_GROUP                 112571 non-null  object \n",
      " 12  PERP_SEX                  112571 non-null  object \n",
      " 13  PERP_RACE                 112571 non-null  object \n",
      " 14  X_COORD_CD                112571 non-null  int64  \n",
      " 15  Y_COORD_CD                112571 non-null  int64  \n",
      " 16  Latitude                  112571 non-null  float64\n",
      " 17  Longitude                 112571 non-null  float64\n",
      " 18  New Georeferenced Column  112571 non-null  object \n",
      "dtypes: float64(4), int64(5), object(10)\n",
      "memory usage: 16.3+ MB\n"
     ]
    }
   ],
   "source": [
    "df.info()"
   ]
  },
  {
   "cell_type": "markdown",
   "metadata": {},
   "source": [
    "The datatype looks good for our group to explore."
   ]
  },
  {
   "cell_type": "markdown",
   "metadata": {},
   "source": [
    "### With each numerical column, how are values distributed?"
   ]
  },
  {
   "cell_type": "code",
   "execution_count": 6,
   "metadata": {},
   "outputs": [
    {
     "data": {
      "text/html": [
       "<div>\n",
       "<style scoped>\n",
       "    .dataframe tbody tr th:only-of-type {\n",
       "        vertical-align: middle;\n",
       "    }\n",
       "\n",
       "    .dataframe tbody tr th {\n",
       "        vertical-align: top;\n",
       "    }\n",
       "\n",
       "    .dataframe thead th {\n",
       "        text-align: right;\n",
       "    }\n",
       "</style>\n",
       "<table border=\"1\" class=\"dataframe\">\n",
       "  <thead>\n",
       "    <tr style=\"text-align: right;\">\n",
       "      <th></th>\n",
       "      <th>ARREST_KEY</th>\n",
       "      <th>PD_CD</th>\n",
       "      <th>KY_CD</th>\n",
       "      <th>ARREST_PRECINCT</th>\n",
       "      <th>JURISDICTION_CODE</th>\n",
       "      <th>X_COORD_CD</th>\n",
       "      <th>Y_COORD_CD</th>\n",
       "      <th>Latitude</th>\n",
       "      <th>Longitude</th>\n",
       "    </tr>\n",
       "  </thead>\n",
       "  <tbody>\n",
       "    <tr>\n",
       "      <th>missing_ratio</th>\n",
       "      <td>0.0</td>\n",
       "      <td>0.4</td>\n",
       "      <td>0.4</td>\n",
       "      <td>0.0</td>\n",
       "      <td>0.0</td>\n",
       "      <td>0.0</td>\n",
       "      <td>0.0</td>\n",
       "      <td>0.000000</td>\n",
       "      <td>0.000000</td>\n",
       "    </tr>\n",
       "    <tr>\n",
       "      <th>min</th>\n",
       "      <td>261180920.0</td>\n",
       "      <td>12.0</td>\n",
       "      <td>101.0</td>\n",
       "      <td>1.0</td>\n",
       "      <td>0.0</td>\n",
       "      <td>0.0</td>\n",
       "      <td>0.0</td>\n",
       "      <td>0.000000</td>\n",
       "      <td>-74.251844</td>\n",
       "    </tr>\n",
       "    <tr>\n",
       "      <th>max</th>\n",
       "      <td>270661337.0</td>\n",
       "      <td>997.0</td>\n",
       "      <td>995.0</td>\n",
       "      <td>123.0</td>\n",
       "      <td>97.0</td>\n",
       "      <td>1066940.0</td>\n",
       "      <td>271819.0</td>\n",
       "      <td>40.912714</td>\n",
       "      <td>0.000000</td>\n",
       "    </tr>\n",
       "  </tbody>\n",
       "</table>\n",
       "</div>"
      ],
      "text/plain": [
       "                ARREST_KEY  PD_CD  KY_CD  ARREST_PRECINCT  JURISDICTION_CODE  \\\n",
       "missing_ratio          0.0    0.4    0.4              0.0                0.0   \n",
       "min            261180920.0   12.0  101.0              1.0                0.0   \n",
       "max            270661337.0  997.0  995.0            123.0               97.0   \n",
       "\n",
       "               X_COORD_CD  Y_COORD_CD   Latitude  Longitude  \n",
       "missing_ratio         0.0         0.0   0.000000   0.000000  \n",
       "min                   0.0         0.0   0.000000 -74.251844  \n",
       "max             1066940.0    271819.0  40.912714   0.000000  "
      ]
     },
     "execution_count": 6,
     "metadata": {},
     "output_type": "execute_result"
    }
   ],
   "source": [
    "num_col_info_df = df.select_dtypes(exclude='object')\n",
    "def missing_ratio(s):\n",
    "    return (s.isna().mean() * 100).round(1)\n",
    "\n",
    "\n",
    "num_col_info_df = num_col_info_df.agg([missing_ratio, \"min\", \"max\"])\n",
    "num_col_info_df"
   ]
  },
  {
   "cell_type": "markdown",
   "metadata": {},
   "source": [
    "### With each categorical column, how are values distributed?"
   ]
  },
  {
   "cell_type": "code",
   "execution_count": 7,
   "metadata": {},
   "outputs": [
    {
     "data": {
      "text/html": [
       "<div>\n",
       "<style scoped>\n",
       "    .dataframe tbody tr th:only-of-type {\n",
       "        vertical-align: middle;\n",
       "    }\n",
       "\n",
       "    .dataframe tbody tr th {\n",
       "        vertical-align: top;\n",
       "    }\n",
       "\n",
       "    .dataframe thead th {\n",
       "        text-align: right;\n",
       "    }\n",
       "</style>\n",
       "<table border=\"1\" class=\"dataframe\">\n",
       "  <thead>\n",
       "    <tr style=\"text-align: right;\">\n",
       "      <th></th>\n",
       "      <th>ARREST_DATE</th>\n",
       "      <th>PD_DESC</th>\n",
       "      <th>OFNS_DESC</th>\n",
       "      <th>LAW_CODE</th>\n",
       "      <th>LAW_CAT_CD</th>\n",
       "      <th>ARREST_BORO</th>\n",
       "      <th>AGE_GROUP</th>\n",
       "      <th>PERP_SEX</th>\n",
       "      <th>PERP_RACE</th>\n",
       "      <th>New Georeferenced Column</th>\n",
       "    </tr>\n",
       "  </thead>\n",
       "  <tbody>\n",
       "    <tr>\n",
       "      <th>missing_ratio</th>\n",
       "      <td>0.0</td>\n",
       "      <td>0.0</td>\n",
       "      <td>0.0</td>\n",
       "      <td>0.0</td>\n",
       "      <td>0.8</td>\n",
       "      <td>0.0</td>\n",
       "      <td>0.0</td>\n",
       "      <td>0.0</td>\n",
       "      <td>0.0</td>\n",
       "      <td>0.0</td>\n",
       "    </tr>\n",
       "  </tbody>\n",
       "</table>\n",
       "</div>"
      ],
      "text/plain": [
       "               ARREST_DATE  PD_DESC  OFNS_DESC  LAW_CODE  LAW_CAT_CD  \\\n",
       "missing_ratio          0.0      0.0        0.0       0.0         0.8   \n",
       "\n",
       "               ARREST_BORO  AGE_GROUP  PERP_SEX  PERP_RACE  \\\n",
       "missing_ratio          0.0        0.0       0.0        0.0   \n",
       "\n",
       "               New Georeferenced Column  \n",
       "missing_ratio                       0.0  "
      ]
     },
     "execution_count": 7,
     "metadata": {},
     "output_type": "execute_result"
    }
   ],
   "source": [
    "cate_col_info_df = df.select_dtypes(include='object')\n",
    "cate_col_info_df = cate_col_info_df.agg([missing_ratio])\n",
    "cate_col_info_df"
   ]
  },
  {
   "cell_type": "code",
   "execution_count": 8,
   "metadata": {},
   "outputs": [
    {
     "name": "stdout",
     "output_type": "stream",
     "text": [
      "3 unique values in column ARREST_DATE:  ['02/08/2023' '03/24/2023' '03/28/2023']\n",
      "3 unique values in column PD_DESC:  ['ROBBERY,CAR JACKING' 'RAPE 2' 'RAPE 1']\n",
      "3 unique values in column OFNS_DESC:  ['ROBBERY' 'RAPE' 'FELONY ASSAULT']\n",
      "3 unique values in column LAW_CODE:  ['PL 1601003' 'PL 1303001' 'PL 1303501']\n",
      "3 unique values in column LAW_CAT_CD:  ['F' '9' 'M']\n",
      "3 unique values in column ARREST_BORO:  ['K' 'S' 'Q']\n",
      "3 unique values in column AGE_GROUP:  ['25-44' '18-24' '<18']\n",
      "3 unique values in column PERP_SEX:  ['F' 'M' 'U']\n",
      "3 unique values in column PERP_RACE:  ['WHITE' 'BLACK' 'WHITE HISPANIC']\n",
      "3 unique values in column New Georeferenced Column:  ['POINT (-73.979638 40.597407)'\n",
      " 'POINT (-74.0770327198983 40.6447209438691)'\n",
      " 'POINT (-73.8740035373971 40.7434812638841)']\n"
     ]
    }
   ],
   "source": [
    "for col in cate_col_info_df.columns:\n",
    "    print(f\"3 unique values in column {col}:  {df[col].unique()[0:3]}\")"
   ]
  },
  {
   "cell_type": "markdown",
   "metadata": {},
   "source": [
    "The values look normal in categorical column."
   ]
  },
  {
   "cell_type": "markdown",
   "metadata": {},
   "source": [
    "## 3. Data Exploration"
   ]
  },
  {
   "cell_type": "code",
   "execution_count": 9,
   "metadata": {},
   "outputs": [
    {
     "data": {
      "text/html": [
       "<div>\n",
       "<style scoped>\n",
       "    .dataframe tbody tr th:only-of-type {\n",
       "        vertical-align: middle;\n",
       "    }\n",
       "\n",
       "    .dataframe tbody tr th {\n",
       "        vertical-align: top;\n",
       "    }\n",
       "\n",
       "    .dataframe thead th {\n",
       "        text-align: right;\n",
       "    }\n",
       "</style>\n",
       "<table border=\"1\" class=\"dataframe\">\n",
       "  <thead>\n",
       "    <tr style=\"text-align: right;\">\n",
       "      <th></th>\n",
       "      <th>ARREST_KEY</th>\n",
       "      <th>ARREST_DATE</th>\n",
       "      <th>PD_CD</th>\n",
       "      <th>PD_DESC</th>\n",
       "      <th>KY_CD</th>\n",
       "      <th>OFNS_DESC</th>\n",
       "      <th>LAW_CODE</th>\n",
       "      <th>LAW_CAT_CD</th>\n",
       "      <th>ARREST_BORO</th>\n",
       "      <th>ARREST_PRECINCT</th>\n",
       "      <th>JURISDICTION_CODE</th>\n",
       "      <th>AGE_GROUP</th>\n",
       "      <th>PERP_SEX</th>\n",
       "      <th>PERP_RACE</th>\n",
       "      <th>X_COORD_CD</th>\n",
       "      <th>Y_COORD_CD</th>\n",
       "      <th>Latitude</th>\n",
       "      <th>Longitude</th>\n",
       "      <th>New Georeferenced Column</th>\n",
       "    </tr>\n",
       "  </thead>\n",
       "  <tbody>\n",
       "    <tr>\n",
       "      <th>0</th>\n",
       "      <td>263238742</td>\n",
       "      <td>02/08/2023</td>\n",
       "      <td>380.0</td>\n",
       "      <td>ROBBERY,CAR JACKING</td>\n",
       "      <td>105.0</td>\n",
       "      <td>ROBBERY</td>\n",
       "      <td>PL 1601003</td>\n",
       "      <td>F</td>\n",
       "      <td>K</td>\n",
       "      <td>62</td>\n",
       "      <td>0</td>\n",
       "      <td>25-44</td>\n",
       "      <td>F</td>\n",
       "      <td>WHITE</td>\n",
       "      <td>989904</td>\n",
       "      <td>156928</td>\n",
       "      <td>40.597407</td>\n",
       "      <td>-73.979638</td>\n",
       "      <td>POINT (-73.979638 40.597407)</td>\n",
       "    </tr>\n",
       "    <tr>\n",
       "      <th>1</th>\n",
       "      <td>265590985</td>\n",
       "      <td>03/24/2023</td>\n",
       "      <td>155.0</td>\n",
       "      <td>RAPE 2</td>\n",
       "      <td>104.0</td>\n",
       "      <td>RAPE</td>\n",
       "      <td>PL 1303001</td>\n",
       "      <td>F</td>\n",
       "      <td>S</td>\n",
       "      <td>120</td>\n",
       "      <td>0</td>\n",
       "      <td>18-24</td>\n",
       "      <td>M</td>\n",
       "      <td>BLACK</td>\n",
       "      <td>962873</td>\n",
       "      <td>174172</td>\n",
       "      <td>40.644721</td>\n",
       "      <td>-74.077033</td>\n",
       "      <td>POINT (-74.0770327198983 40.6447209438691)</td>\n",
       "    </tr>\n",
       "    <tr>\n",
       "      <th>2</th>\n",
       "      <td>265798132</td>\n",
       "      <td>03/28/2023</td>\n",
       "      <td>157.0</td>\n",
       "      <td>RAPE 1</td>\n",
       "      <td>104.0</td>\n",
       "      <td>RAPE</td>\n",
       "      <td>PL 1303501</td>\n",
       "      <td>F</td>\n",
       "      <td>S</td>\n",
       "      <td>120</td>\n",
       "      <td>0</td>\n",
       "      <td>25-44</td>\n",
       "      <td>M</td>\n",
       "      <td>BLACK</td>\n",
       "      <td>962873</td>\n",
       "      <td>174172</td>\n",
       "      <td>40.644721</td>\n",
       "      <td>-74.077033</td>\n",
       "      <td>POINT (-74.0770327198983 40.6447209438691)</td>\n",
       "    </tr>\n",
       "    <tr>\n",
       "      <th>3</th>\n",
       "      <td>269233687</td>\n",
       "      <td>06/02/2023</td>\n",
       "      <td>157.0</td>\n",
       "      <td>RAPE 1</td>\n",
       "      <td>104.0</td>\n",
       "      <td>RAPE</td>\n",
       "      <td>PL 1303501</td>\n",
       "      <td>F</td>\n",
       "      <td>Q</td>\n",
       "      <td>110</td>\n",
       "      <td>0</td>\n",
       "      <td>25-44</td>\n",
       "      <td>M</td>\n",
       "      <td>WHITE HISPANIC</td>\n",
       "      <td>1019164</td>\n",
       "      <td>210169</td>\n",
       "      <td>40.743481</td>\n",
       "      <td>-73.874004</td>\n",
       "      <td>POINT (-73.8740035373971 40.7434812638841)</td>\n",
       "    </tr>\n",
       "    <tr>\n",
       "      <th>4</th>\n",
       "      <td>270519574</td>\n",
       "      <td>06/28/2023</td>\n",
       "      <td>157.0</td>\n",
       "      <td>RAPE 1</td>\n",
       "      <td>104.0</td>\n",
       "      <td>RAPE</td>\n",
       "      <td>PL 1303501</td>\n",
       "      <td>F</td>\n",
       "      <td>K</td>\n",
       "      <td>84</td>\n",
       "      <td>0</td>\n",
       "      <td>25-44</td>\n",
       "      <td>M</td>\n",
       "      <td>BLACK HISPANIC</td>\n",
       "      <td>988902</td>\n",
       "      <td>192641</td>\n",
       "      <td>40.695439</td>\n",
       "      <td>-73.983225</td>\n",
       "      <td>POINT (-73.9832253756043 40.6954388081238)</td>\n",
       "    </tr>\n",
       "    <tr>\n",
       "      <th>5</th>\n",
       "      <td>261548646</td>\n",
       "      <td>01/07/2023</td>\n",
       "      <td>105.0</td>\n",
       "      <td>STRANGULATION 1ST</td>\n",
       "      <td>106.0</td>\n",
       "      <td>FELONY ASSAULT</td>\n",
       "      <td>PL 1211200</td>\n",
       "      <td>F</td>\n",
       "      <td>M</td>\n",
       "      <td>30</td>\n",
       "      <td>0</td>\n",
       "      <td>25-44</td>\n",
       "      <td>M</td>\n",
       "      <td>BLACK</td>\n",
       "      <td>1000749</td>\n",
       "      <td>241092</td>\n",
       "      <td>40.828405</td>\n",
       "      <td>-73.940382</td>\n",
       "      <td>POINT (-73.940382 40.828405)</td>\n",
       "    </tr>\n",
       "    <tr>\n",
       "      <th>6</th>\n",
       "      <td>261926460</td>\n",
       "      <td>01/14/2023</td>\n",
       "      <td>263.0</td>\n",
       "      <td>ARSON 2,3,4</td>\n",
       "      <td>114.0</td>\n",
       "      <td>ARSON</td>\n",
       "      <td>PL 1501001</td>\n",
       "      <td>F</td>\n",
       "      <td>K</td>\n",
       "      <td>63</td>\n",
       "      <td>0</td>\n",
       "      <td>25-44</td>\n",
       "      <td>M</td>\n",
       "      <td>BLACK</td>\n",
       "      <td>1000520</td>\n",
       "      <td>168264</td>\n",
       "      <td>40.628508</td>\n",
       "      <td>-73.941384</td>\n",
       "      <td>POINT (-73.941384 40.628508)</td>\n",
       "    </tr>\n",
       "    <tr>\n",
       "      <th>7</th>\n",
       "      <td>262020709</td>\n",
       "      <td>01/17/2023</td>\n",
       "      <td>NaN</td>\n",
       "      <td>(null)</td>\n",
       "      <td>NaN</td>\n",
       "      <td>(null)</td>\n",
       "      <td>CPL5700600</td>\n",
       "      <td>9</td>\n",
       "      <td>Q</td>\n",
       "      <td>102</td>\n",
       "      <td>0</td>\n",
       "      <td>25-44</td>\n",
       "      <td>M</td>\n",
       "      <td>BLACK</td>\n",
       "      <td>1032501</td>\n",
       "      <td>198800</td>\n",
       "      <td>40.712206</td>\n",
       "      <td>-73.825952</td>\n",
       "      <td>POINT (-73.825952 40.712206)</td>\n",
       "    </tr>\n",
       "    <tr>\n",
       "      <th>8</th>\n",
       "      <td>262853818</td>\n",
       "      <td>02/01/2023</td>\n",
       "      <td>105.0</td>\n",
       "      <td>STRANGULATION 1ST</td>\n",
       "      <td>106.0</td>\n",
       "      <td>FELONY ASSAULT</td>\n",
       "      <td>PL 1211200</td>\n",
       "      <td>F</td>\n",
       "      <td>B</td>\n",
       "      <td>42</td>\n",
       "      <td>0</td>\n",
       "      <td>25-44</td>\n",
       "      <td>M</td>\n",
       "      <td>BLACK</td>\n",
       "      <td>1008754</td>\n",
       "      <td>238895</td>\n",
       "      <td>40.822355</td>\n",
       "      <td>-73.911463</td>\n",
       "      <td>POINT (-73.911463 40.822355)</td>\n",
       "    </tr>\n",
       "    <tr>\n",
       "      <th>9</th>\n",
       "      <td>263314679</td>\n",
       "      <td>02/09/2023</td>\n",
       "      <td>NaN</td>\n",
       "      <td>(null)</td>\n",
       "      <td>NaN</td>\n",
       "      <td>(null)</td>\n",
       "      <td>CPL5700600</td>\n",
       "      <td>9</td>\n",
       "      <td>Q</td>\n",
       "      <td>102</td>\n",
       "      <td>0</td>\n",
       "      <td>25-44</td>\n",
       "      <td>F</td>\n",
       "      <td>BLACK</td>\n",
       "      <td>1032501</td>\n",
       "      <td>198800</td>\n",
       "      <td>40.712206</td>\n",
       "      <td>-73.825952</td>\n",
       "      <td>POINT (-73.825952 40.712206)</td>\n",
       "    </tr>\n",
       "  </tbody>\n",
       "</table>\n",
       "</div>"
      ],
      "text/plain": [
       "   ARREST_KEY ARREST_DATE  PD_CD              PD_DESC  KY_CD       OFNS_DESC  \\\n",
       "0   263238742  02/08/2023  380.0  ROBBERY,CAR JACKING  105.0         ROBBERY   \n",
       "1   265590985  03/24/2023  155.0               RAPE 2  104.0            RAPE   \n",
       "2   265798132  03/28/2023  157.0               RAPE 1  104.0            RAPE   \n",
       "3   269233687  06/02/2023  157.0               RAPE 1  104.0            RAPE   \n",
       "4   270519574  06/28/2023  157.0               RAPE 1  104.0            RAPE   \n",
       "5   261548646  01/07/2023  105.0    STRANGULATION 1ST  106.0  FELONY ASSAULT   \n",
       "6   261926460  01/14/2023  263.0          ARSON 2,3,4  114.0           ARSON   \n",
       "7   262020709  01/17/2023    NaN               (null)    NaN          (null)   \n",
       "8   262853818  02/01/2023  105.0    STRANGULATION 1ST  106.0  FELONY ASSAULT   \n",
       "9   263314679  02/09/2023    NaN               (null)    NaN          (null)   \n",
       "\n",
       "     LAW_CODE LAW_CAT_CD ARREST_BORO  ARREST_PRECINCT  JURISDICTION_CODE  \\\n",
       "0  PL 1601003          F           K               62                  0   \n",
       "1  PL 1303001          F           S              120                  0   \n",
       "2  PL 1303501          F           S              120                  0   \n",
       "3  PL 1303501          F           Q              110                  0   \n",
       "4  PL 1303501          F           K               84                  0   \n",
       "5  PL 1211200          F           M               30                  0   \n",
       "6  PL 1501001          F           K               63                  0   \n",
       "7  CPL5700600          9           Q              102                  0   \n",
       "8  PL 1211200          F           B               42                  0   \n",
       "9  CPL5700600          9           Q              102                  0   \n",
       "\n",
       "  AGE_GROUP PERP_SEX       PERP_RACE  X_COORD_CD  Y_COORD_CD   Latitude  \\\n",
       "0     25-44        F           WHITE      989904      156928  40.597407   \n",
       "1     18-24        M           BLACK      962873      174172  40.644721   \n",
       "2     25-44        M           BLACK      962873      174172  40.644721   \n",
       "3     25-44        M  WHITE HISPANIC     1019164      210169  40.743481   \n",
       "4     25-44        M  BLACK HISPANIC      988902      192641  40.695439   \n",
       "5     25-44        M           BLACK     1000749      241092  40.828405   \n",
       "6     25-44        M           BLACK     1000520      168264  40.628508   \n",
       "7     25-44        M           BLACK     1032501      198800  40.712206   \n",
       "8     25-44        M           BLACK     1008754      238895  40.822355   \n",
       "9     25-44        F           BLACK     1032501      198800  40.712206   \n",
       "\n",
       "   Longitude                    New Georeferenced Column  \n",
       "0 -73.979638                POINT (-73.979638 40.597407)  \n",
       "1 -74.077033  POINT (-74.0770327198983 40.6447209438691)  \n",
       "2 -74.077033  POINT (-74.0770327198983 40.6447209438691)  \n",
       "3 -73.874004  POINT (-73.8740035373971 40.7434812638841)  \n",
       "4 -73.983225  POINT (-73.9832253756043 40.6954388081238)  \n",
       "5 -73.940382                POINT (-73.940382 40.828405)  \n",
       "6 -73.941384                POINT (-73.941384 40.628508)  \n",
       "7 -73.825952                POINT (-73.825952 40.712206)  \n",
       "8 -73.911463                POINT (-73.911463 40.822355)  \n",
       "9 -73.825952                POINT (-73.825952 40.712206)  "
      ]
     },
     "execution_count": 9,
     "metadata": {},
     "output_type": "execute_result"
    }
   ],
   "source": [
    "df.head(10)"
   ]
  }
 ],
 "metadata": {
  "kernelspec": {
   "display_name": "Python 3",
   "language": "python",
   "name": "python3"
  },
  "language_info": {
   "codemirror_mode": {
    "name": "ipython",
    "version": 3
   },
   "file_extension": ".py",
   "mimetype": "text/x-python",
   "name": "python",
   "nbconvert_exporter": "python",
   "pygments_lexer": "ipython3",
   "version": "3.11.3"
  }
 },
 "nbformat": 4,
 "nbformat_minor": 2
}
