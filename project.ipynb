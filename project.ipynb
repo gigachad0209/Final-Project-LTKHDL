{
 "cells": [
  {
   "cell_type": "markdown",
   "metadata": {},
   "source": [
    "# Final Project"
   ]
  },
  {
   "cell_type": "markdown",
   "metadata": {},
   "source": [
    "Group members:\n",
    "- 21127667 - Trương Công Gia Phát\n",
    "- 21127743 - Trần Thái Toàn\n",
    "\n",
    "(Last updated: 8/12/2023)"
   ]
  },
  {
   "cell_type": "markdown",
   "metadata": {},
   "source": [
    "## 1. Collecting data"
   ]
  },
  {
   "cell_type": "markdown",
   "metadata": {},
   "source": [
    "### What subject is your data about?"
   ]
  },
  {
   "cell_type": "markdown",
   "metadata": {},
   "source": [
    "The dataset is a breakdown of every arrest effected in NYC by the NYPD during the current year. "
   ]
  },
  {
   "cell_type": "markdown",
   "metadata": {},
   "source": [
    "### What is the source of your data? Do authors of this data allow you to use like this?"
   ]
  },
  {
   "cell_type": "markdown",
   "metadata": {},
   "source": [
    "Our group found the data on Kaggle and it is licensed by the U.S Government Works."
   ]
  },
  {
   "cell_type": "markdown",
   "metadata": {},
   "source": [
    "### How did authors collect data?"
   ]
  },
  {
   "cell_type": "markdown",
   "metadata": {},
   "source": [
    "This data is manually extracted every quarter and reviewed by the Office of Management Analysis and Planning."
   ]
  },
  {
   "cell_type": "markdown",
   "metadata": {},
   "source": [
    "## 2. Exploring data\n",
    "\n",
    "### Importing libraries"
   ]
  },
  {
   "cell_type": "code",
   "execution_count": 1,
   "metadata": {},
   "outputs": [],
   "source": [
    "import pandas as pd"
   ]
  },
  {
   "cell_type": "code",
   "execution_count": 2,
   "metadata": {},
   "outputs": [],
   "source": [
    "df = pd.read_csv('./data/NYPD_Arrest_Data__Year_to_Date_.csv')"
   ]
  },
  {
   "cell_type": "markdown",
   "metadata": {},
   "source": [
    "### How many rows and how many columns?"
   ]
  },
  {
   "cell_type": "code",
   "execution_count": 3,
   "metadata": {},
   "outputs": [
    {
     "name": "stdout",
     "output_type": "stream",
     "text": [
      "The data has 112571 rows and 19 columns.\n"
     ]
    }
   ],
   "source": [
    "shape = df.shape\n",
    "print(f\"The data has {shape[0]} rows and {shape[1]} columns.\")"
   ]
  },
  {
   "cell_type": "markdown",
   "metadata": {},
   "source": [
    "### What is the meaning of each row?"
   ]
  },
  {
   "cell_type": "markdown",
   "metadata": {},
   "source": [
    "Each record represents an arrest effected in NYC by the NYPD and includes information about the type of crime, the location and time of enforcement."
   ]
  },
  {
   "cell_type": "markdown",
   "metadata": {},
   "source": [
    "### Are there duplicated rows?"
   ]
  },
  {
   "cell_type": "code",
   "execution_count": 4,
   "metadata": {},
   "outputs": [
    {
     "name": "stdout",
     "output_type": "stream",
     "text": [
      "Data have no duplicated line.!\n"
     ]
    }
   ],
   "source": [
    "index = df.index\n",
    "detectDupSeries = index.duplicated(keep='first')\n",
    "num_duplicated_rows = detectDupSeries.sum()\n",
    "\n",
    "if num_duplicated_rows == 0:\n",
    "    print(f\"Data have no duplicated line.!\")\n",
    "else:\n",
    "    if num_duplicated_rows > 1:\n",
    "        ext = \"lines\"\n",
    "    else:\n",
    "        ext = \"line\"\n",
    "    print(f\"Data have {num_duplicated_rows} duplicated \" + ext + \". Please de-deduplicate your raw data.!\")"
   ]
  },
  {
   "cell_type": "markdown",
   "metadata": {},
   "source": [
    "### What is the meaning of each column?"
   ]
  },
  {
   "cell_type": "markdown",
   "metadata": {},
   "source": [
    "- ARREST_KEY : Randomly generated persistent ID for each arrest\n",
    "- ARREST_DATE: Exact date of arrest for the reported event\n",
    "- PD_CD: Three digit internal classification code (more granular than Key Code)\n",
    "- PD_DESC : Description of internal classification corresponding with PD code (more granular than Offense Description)\n",
    "- KY_CD : Three digit internal classification code (more general category than PD code)\n",
    "- OFNS_DESC : Description of internal classification corresponding with KY code (more general category than PD description)\n",
    "- LAW_CODE : Law code charges corresponding to the NYS Penal Law, VTL and other various local laws\n",
    "- LAW_CAT_CD : Level of offense: felony, misdemeanor, violation\n",
    "- ARREST_BORO : Borough of arrest. B(Bronx), S(Staten Island), K(Brooklyn), M(Manhattan), Q(Queens)\n",
    "- ARREST_PRECINCT : Precinct where the arrest occurred\n",
    "- JURISDICTION_CODE : Jurisdiction responsible for arrest. Jurisdiction codes 0(Patrol), 1(Transit) and 2(Housing) represent NYPD whilst codes 3 and more represent non NYPD jurisdictions\n",
    "- AGE_GROUP : Perpetrator’s age within a category\n",
    "- PERP_SEX : Perpetrator’s sex description\n",
    "- PERP_RACE : Perpetrator’s race description\n",
    "- X_COORD_CD : Midblock X-coordinate for New York State Plane Coordinate System, Long Island Zone, NAD 83, units feet (FIPS 3104)\n",
    "- Y_COORD_CD : Midblock Y-coordinate for New York State Plane Coordinate System, Long Island Zone, NAD 83, units feet (FIPS 3104)\n",
    "- Latitude : Latitude coordinate for Global Coordinate System, WGS 1984, decimal degrees (EPSG 4326)\n",
    "- Longitude : Longitude coordinate for Global Coordinate System, WGS 1984, decimal degrees (EPSG 4326)"
   ]
  },
  {
   "cell_type": "markdown",
   "metadata": {},
   "source": [
    "### What is the current data type of each column? Are there columns having inappropriate data types?"
   ]
  },
  {
   "cell_type": "code",
   "execution_count": 5,
   "metadata": {},
   "outputs": [
    {
     "name": "stdout",
     "output_type": "stream",
     "text": [
      "<class 'pandas.core.frame.DataFrame'>\n",
      "RangeIndex: 112571 entries, 0 to 112570\n",
      "Data columns (total 19 columns):\n",
      " #   Column                    Non-Null Count   Dtype  \n",
      "---  ------                    --------------   -----  \n",
      " 0   ARREST_KEY                112571 non-null  int64  \n",
      " 1   ARREST_DATE               112571 non-null  object \n",
      " 2   PD_CD                     112110 non-null  float64\n",
      " 3   PD_DESC                   112571 non-null  object \n",
      " 4   KY_CD                     112105 non-null  float64\n",
      " 5   OFNS_DESC                 112571 non-null  object \n",
      " 6   LAW_CODE                  112571 non-null  object \n",
      " 7   LAW_CAT_CD                111725 non-null  object \n",
      " 8   ARREST_BORO               112571 non-null  object \n",
      " 9   ARREST_PRECINCT           112571 non-null  int64  \n",
      " 10  JURISDICTION_CODE         112571 non-null  int64  \n",
      " 11  AGE_GROUP                 112571 non-null  object \n",
      " 12  PERP_SEX                  112571 non-null  object \n",
      " 13  PERP_RACE                 112571 non-null  object \n",
      " 14  X_COORD_CD                112571 non-null  int64  \n",
      " 15  Y_COORD_CD                112571 non-null  int64  \n",
      " 16  Latitude                  112571 non-null  float64\n",
      " 17  Longitude                 112571 non-null  float64\n",
      " 18  New Georeferenced Column  112571 non-null  object \n",
      "dtypes: float64(4), int64(5), object(10)\n",
      "memory usage: 16.3+ MB\n"
     ]
    }
   ],
   "source": [
    "df.info()"
   ]
  },
  {
   "cell_type": "markdown",
   "metadata": {},
   "source": [
    "The datatype looks good for our group to explore."
   ]
  },
  {
   "cell_type": "markdown",
   "metadata": {},
   "source": [
    "### With each numerical column, how are values distributed?"
   ]
  },
  {
   "cell_type": "code",
   "execution_count": 6,
   "metadata": {},
   "outputs": [
    {
     "data": {
      "text/html": [
       "<div>\n",
       "<style scoped>\n",
       "    .dataframe tbody tr th:only-of-type {\n",
       "        vertical-align: middle;\n",
       "    }\n",
       "\n",
       "    .dataframe tbody tr th {\n",
       "        vertical-align: top;\n",
       "    }\n",
       "\n",
       "    .dataframe thead th {\n",
       "        text-align: right;\n",
       "    }\n",
       "</style>\n",
       "<table border=\"1\" class=\"dataframe\">\n",
       "  <thead>\n",
       "    <tr style=\"text-align: right;\">\n",
       "      <th></th>\n",
       "      <th>ARREST_KEY</th>\n",
       "      <th>PD_CD</th>\n",
       "      <th>KY_CD</th>\n",
       "      <th>ARREST_PRECINCT</th>\n",
       "      <th>JURISDICTION_CODE</th>\n",
       "      <th>X_COORD_CD</th>\n",
       "      <th>Y_COORD_CD</th>\n",
       "      <th>Latitude</th>\n",
       "      <th>Longitude</th>\n",
       "    </tr>\n",
       "  </thead>\n",
       "  <tbody>\n",
       "    <tr>\n",
       "      <th>missing_ratio</th>\n",
       "      <td>0.0</td>\n",
       "      <td>0.4</td>\n",
       "      <td>0.4</td>\n",
       "      <td>0.0</td>\n",
       "      <td>0.0</td>\n",
       "      <td>0.0</td>\n",
       "      <td>0.0</td>\n",
       "      <td>0.000000</td>\n",
       "      <td>0.000000</td>\n",
       "    </tr>\n",
       "    <tr>\n",
       "      <th>min</th>\n",
       "      <td>261180920.0</td>\n",
       "      <td>12.0</td>\n",
       "      <td>101.0</td>\n",
       "      <td>1.0</td>\n",
       "      <td>0.0</td>\n",
       "      <td>0.0</td>\n",
       "      <td>0.0</td>\n",
       "      <td>0.000000</td>\n",
       "      <td>-74.251844</td>\n",
       "    </tr>\n",
       "    <tr>\n",
       "      <th>max</th>\n",
       "      <td>270661337.0</td>\n",
       "      <td>997.0</td>\n",
       "      <td>995.0</td>\n",
       "      <td>123.0</td>\n",
       "      <td>97.0</td>\n",
       "      <td>1066940.0</td>\n",
       "      <td>271819.0</td>\n",
       "      <td>40.912714</td>\n",
       "      <td>0.000000</td>\n",
       "    </tr>\n",
       "  </tbody>\n",
       "</table>\n",
       "</div>"
      ],
      "text/plain": [
       "                ARREST_KEY  PD_CD  KY_CD  ARREST_PRECINCT  JURISDICTION_CODE  \\\n",
       "missing_ratio          0.0    0.4    0.4              0.0                0.0   \n",
       "min            261180920.0   12.0  101.0              1.0                0.0   \n",
       "max            270661337.0  997.0  995.0            123.0               97.0   \n",
       "\n",
       "               X_COORD_CD  Y_COORD_CD   Latitude  Longitude  \n",
       "missing_ratio         0.0         0.0   0.000000   0.000000  \n",
       "min                   0.0         0.0   0.000000 -74.251844  \n",
       "max             1066940.0    271819.0  40.912714   0.000000  "
      ]
     },
     "execution_count": 6,
     "metadata": {},
     "output_type": "execute_result"
    }
   ],
   "source": [
    "num_col_info_df = df.select_dtypes(exclude='object')\n",
    "def missing_ratio(s):\n",
    "    return (s.isna().mean() * 100).round(1)\n",
    "\n",
    "\n",
    "num_col_info_df = num_col_info_df.agg([missing_ratio, \"min\", \"max\"])\n",
    "num_col_info_df"
   ]
  },
  {
   "cell_type": "markdown",
   "metadata": {},
   "source": [
    "### With each categorical column, how are values distributed?"
   ]
  },
  {
   "cell_type": "code",
   "execution_count": 7,
   "metadata": {},
   "outputs": [
    {
     "data": {
      "text/html": [
       "<div>\n",
       "<style scoped>\n",
       "    .dataframe tbody tr th:only-of-type {\n",
       "        vertical-align: middle;\n",
       "    }\n",
       "\n",
       "    .dataframe tbody tr th {\n",
       "        vertical-align: top;\n",
       "    }\n",
       "\n",
       "    .dataframe thead th {\n",
       "        text-align: right;\n",
       "    }\n",
       "</style>\n",
       "<table border=\"1\" class=\"dataframe\">\n",
       "  <thead>\n",
       "    <tr style=\"text-align: right;\">\n",
       "      <th></th>\n",
       "      <th>ARREST_DATE</th>\n",
       "      <th>PD_DESC</th>\n",
       "      <th>OFNS_DESC</th>\n",
       "      <th>LAW_CODE</th>\n",
       "      <th>LAW_CAT_CD</th>\n",
       "      <th>ARREST_BORO</th>\n",
       "      <th>AGE_GROUP</th>\n",
       "      <th>PERP_SEX</th>\n",
       "      <th>PERP_RACE</th>\n",
       "      <th>New Georeferenced Column</th>\n",
       "    </tr>\n",
       "  </thead>\n",
       "  <tbody>\n",
       "    <tr>\n",
       "      <th>missing_ratio</th>\n",
       "      <td>0.0</td>\n",
       "      <td>0.0</td>\n",
       "      <td>0.0</td>\n",
       "      <td>0.0</td>\n",
       "      <td>0.8</td>\n",
       "      <td>0.0</td>\n",
       "      <td>0.0</td>\n",
       "      <td>0.0</td>\n",
       "      <td>0.0</td>\n",
       "      <td>0.0</td>\n",
       "    </tr>\n",
       "  </tbody>\n",
       "</table>\n",
       "</div>"
      ],
      "text/plain": [
       "               ARREST_DATE  PD_DESC  OFNS_DESC  LAW_CODE  LAW_CAT_CD  \\\n",
       "missing_ratio          0.0      0.0        0.0       0.0         0.8   \n",
       "\n",
       "               ARREST_BORO  AGE_GROUP  PERP_SEX  PERP_RACE  \\\n",
       "missing_ratio          0.0        0.0       0.0        0.0   \n",
       "\n",
       "               New Georeferenced Column  \n",
       "missing_ratio                       0.0  "
      ]
     },
     "execution_count": 7,
     "metadata": {},
     "output_type": "execute_result"
    }
   ],
   "source": [
    "cate_col_info_df = df.select_dtypes(include='object')\n",
    "cate_col_info_df = cate_col_info_df.agg([missing_ratio])\n",
    "cate_col_info_df"
   ]
  },
  {
   "cell_type": "code",
   "execution_count": 9,
   "metadata": {},
   "outputs": [
    {
     "name": "stdout",
     "output_type": "stream",
     "text": [
      "3 unique values in column ARREST_DATE:  ['02/08/2023' '03/24/2023' '03/28/2023']\n",
      "3 unique values in column PD_DESC:  ['ROBBERY,CAR JACKING' 'RAPE 2' 'RAPE 1']\n",
      "3 unique values in column OFNS_DESC:  ['ROBBERY' 'RAPE' 'FELONY ASSAULT']\n",
      "3 unique values in column LAW_CODE:  ['PL 1601003' 'PL 1303001' 'PL 1303501']\n",
      "3 unique values in column LAW_CAT_CD:  ['F' '9' 'M']\n",
      "3 unique values in column ARREST_BORO:  ['K' 'S' 'Q']\n",
      "3 unique values in column AGE_GROUP:  ['25-44' '18-24' '<18']\n",
      "3 unique values in column PERP_SEX:  ['F' 'M' 'U']\n",
      "3 unique values in column PERP_RACE:  ['WHITE' 'BLACK' 'WHITE HISPANIC']\n",
      "3 unique values in column New Georeferenced Column:  ['POINT (-73.979638 40.597407)'\n",
      " 'POINT (-74.0770327198983 40.6447209438691)'\n",
      " 'POINT (-73.8740035373971 40.7434812638841)']\n"
     ]
    }
   ],
   "source": [
    "for col in cate_col_info_df.columns:\n",
    "    print(f\"3 unique values in column {col}:  {df[col].unique()[0:3]}\")"
   ]
  },
  {
   "cell_type": "markdown",
   "metadata": {},
   "source": [
    "The values look normal in categorical column."
   ]
  },
  {
   "cell_type": "markdown",
   "metadata": {},
   "source": [
    "## 3. Data Exploration"
   ]
  }
 ],
 "metadata": {
  "kernelspec": {
   "display_name": "Python 3",
   "language": "python",
   "name": "python3"
  },
  "language_info": {
   "codemirror_mode": {
    "name": "ipython",
    "version": 3
   },
   "file_extension": ".py",
   "mimetype": "text/x-python",
   "name": "python",
   "nbconvert_exporter": "python",
   "pygments_lexer": "ipython3",
   "version": "3.9.18"
  }
 },
 "nbformat": 4,
 "nbformat_minor": 2
}
