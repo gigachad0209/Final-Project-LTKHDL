{
 "cells": [
  {
   "cell_type": "markdown",
   "metadata": {},
   "source": [
    "<div style=\"text-align: center; background-color: #559cff; font-family: 'Trebuchet MS', Arial, sans-serif; color: white; padding: 20px; font-size: 40px; font-weight: bold; border-radius: 0 0 0 0; box-shadow: 0px 6px 8px rgba(0, 0, 0, 0.2);\">\n",
    "  FINAL PROJECT – Introduction to Data Science\n",
    "</div>"
   ]
  },
  {
   "cell_type": "markdown",
   "metadata": {},
   "source": [
    "Group members:\n",
    "| Name              | ID       |\n",
    "|-------------------|----------|\n",
    "| Truong Cong Gia Phat |21127667|\n",
    "| Tran Thai Toan   | 21127743 |\n",
    "\n",
    "(Last updated: 22/12/2023)"
   ]
  },
  {
   "cell_type": "markdown",
   "metadata": {},
   "source": [
    "## Table of Content\n",
    "\n",
    "- [1. Collecting Data](#cc1)\n",
    "- [2. Exploring Data](#cc2)\n",
    "- [3. Simple Visualization](#cc3)"
   ]
  },
  {
   "cell_type": "markdown",
   "metadata": {},
   "source": [
    "## 1. Collecting data <a class=\"anchor\" id=\"cc1\"></a>"
   ]
  },
  {
   "cell_type": "markdown",
   "metadata": {},
   "source": [
    "### What subject is your data about?"
   ]
  },
  {
   "cell_type": "markdown",
   "metadata": {},
   "source": [
    "The dataset is a breakdown of every arrest effected in NYC by the NYPD during the current year. "
   ]
  },
  {
   "cell_type": "markdown",
   "metadata": {},
   "source": [
    "### What is the source of your data? Do authors of this data allow you to use like this?"
   ]
  },
  {
   "cell_type": "markdown",
   "metadata": {},
   "source": [
    "Our group found the data on Kaggle and it is licensed by the U.S Government Works."
   ]
  },
  {
   "cell_type": "markdown",
   "metadata": {},
   "source": [
    "### How did authors collect data?"
   ]
  },
  {
   "cell_type": "markdown",
   "metadata": {},
   "source": [
    "This data is manually extracted every quarter and reviewed by the Office of Management Analysis and Planning."
   ]
  },
  {
   "cell_type": "markdown",
   "metadata": {},
   "source": [
    "## 2. Exploring data <a class=\"anchor\" id=\"cc2\"></a>\n"
   ]
  },
  {
   "cell_type": "markdown",
   "metadata": {},
   "source": [
    "### Importing libraries"
   ]
  },
  {
   "cell_type": "code",
   "execution_count": 11,
   "metadata": {},
   "outputs": [],
   "source": [
    "import pandas as pd\n",
    "import matplotlib.pyplot as plt"
   ]
  },
  {
   "cell_type": "code",
   "execution_count": 12,
   "metadata": {},
   "outputs": [],
   "source": [
    "df = pd.read_csv('./data/NYPD_Arrest_Data__Year_to_Date_.csv')"
   ]
  },
  {
   "cell_type": "markdown",
   "metadata": {},
   "source": [
    "### How many rows and how many columns?"
   ]
  },
  {
   "cell_type": "code",
   "execution_count": 13,
   "metadata": {},
   "outputs": [
    {
     "name": "stdout",
     "output_type": "stream",
     "text": [
      "The data has 112571 rows and 19 columns.\n"
     ]
    }
   ],
   "source": [
    "shape = df.shape\n",
    "print(f\"The data has {shape[0]} rows and {shape[1]} columns.\")"
   ]
  },
  {
   "cell_type": "markdown",
   "metadata": {},
   "source": [
    "### What is the meaning of each row?"
   ]
  },
  {
   "cell_type": "markdown",
   "metadata": {},
   "source": [
    "Each record represents an arrest effected in NYC by the NYPD and includes information about the type of crime, the location and time of enforcement."
   ]
  },
  {
   "cell_type": "markdown",
   "metadata": {},
   "source": [
    "### Are there duplicated rows?"
   ]
  },
  {
   "cell_type": "code",
   "execution_count": 14,
   "metadata": {},
   "outputs": [
    {
     "name": "stdout",
     "output_type": "stream",
     "text": [
      "Data have no duplicated line.!\n"
     ]
    }
   ],
   "source": [
    "index = df.index\n",
    "detectDupSeries = index.duplicated(keep='first')\n",
    "num_duplicated_rows = detectDupSeries.sum()\n",
    "\n",
    "if num_duplicated_rows == 0:\n",
    "    print(f\"Data have no duplicated line.!\")\n",
    "else:\n",
    "    if num_duplicated_rows > 1:\n",
    "        ext = \"lines\"\n",
    "    else:\n",
    "        ext = \"line\"\n",
    "    print(f\"Data have {num_duplicated_rows} duplicated \" + ext + \". Please de-deduplicate your raw data.!\")"
   ]
  },
  {
   "cell_type": "markdown",
   "metadata": {},
   "source": [
    "### What is the meaning of each column?"
   ]
  },
  {
   "cell_type": "markdown",
   "metadata": {},
   "source": [
    "- ARREST_KEY : Randomly generated persistent ID for each arrest\n",
    "- ARREST_DATE: Exact date of arrest for the reported event\n",
    "- PD_CD: Three digit internal classification code (more granular than Key Code)\n",
    "- PD_DESC : Description of internal classification corresponding with PD code (more granular than Offense Description)\n",
    "- KY_CD : Three digit internal classification code (more general category than PD code)\n",
    "- OFNS_DESC : Description of internal classification corresponding with KY code (more general category than PD description)\n",
    "- LAW_CODE : Law code charges corresponding to the NYS Penal Law, VTL and other various local laws\n",
    "- LAW_CAT_CD : Level of offense: felony, misdemeanor, violation\n",
    "- ARREST_BORO : Borough of arrest. B(Bronx), S(Staten Island), K(Brooklyn), M(Manhattan), Q(Queens)\n",
    "- ARREST_PRECINCT : Precinct where the arrest occurred\n",
    "- JURISDICTION_CODE : Jurisdiction responsible for arrest. Jurisdiction codes 0(Patrol), 1(Transit) and 2(Housing) represent NYPD whilst codes 3 and more represent non NYPD jurisdictions\n",
    "- AGE_GROUP : Perpetrator’s age within a category\n",
    "- PERP_SEX : Perpetrator’s sex description\n",
    "- PERP_RACE : Perpetrator’s race description\n",
    "- X_COORD_CD : Midblock X-coordinate for New York State Plane Coordinate System, Long Island Zone, NAD 83, units feet (FIPS 3104)\n",
    "- Y_COORD_CD : Midblock Y-coordinate for New York State Plane Coordinate System, Long Island Zone, NAD 83, units feet (FIPS 3104)\n",
    "- Latitude : Latitude coordinate for Global Coordinate System, WGS 1984, decimal degrees (EPSG 4326)\n",
    "- Longitude : Longitude coordinate for Global Coordinate System, WGS 1984, decimal degrees (EPSG 4326)"
   ]
  },
  {
   "cell_type": "markdown",
   "metadata": {},
   "source": [
    "### What is the current data type of each column? Are there columns having inappropriate data types?"
   ]
  },
  {
   "cell_type": "code",
   "execution_count": 15,
   "metadata": {},
   "outputs": [
    {
     "name": "stdout",
     "output_type": "stream",
     "text": [
      "<class 'pandas.core.frame.DataFrame'>\n",
      "RangeIndex: 112571 entries, 0 to 112570\n",
      "Data columns (total 19 columns):\n",
      " #   Column                    Non-Null Count   Dtype  \n",
      "---  ------                    --------------   -----  \n",
      " 0   ARREST_KEY                112571 non-null  int64  \n",
      " 1   ARREST_DATE               112571 non-null  object \n",
      " 2   PD_CD                     112110 non-null  float64\n",
      " 3   PD_DESC                   112571 non-null  object \n",
      " 4   KY_CD                     112105 non-null  float64\n",
      " 5   OFNS_DESC                 112571 non-null  object \n",
      " 6   LAW_CODE                  112571 non-null  object \n",
      " 7   LAW_CAT_CD                111725 non-null  object \n",
      " 8   ARREST_BORO               112571 non-null  object \n",
      " 9   ARREST_PRECINCT           112571 non-null  int64  \n",
      " 10  JURISDICTION_CODE         112571 non-null  int64  \n",
      " 11  AGE_GROUP                 112571 non-null  object \n",
      " 12  PERP_SEX                  112571 non-null  object \n",
      " 13  PERP_RACE                 112571 non-null  object \n",
      " 14  X_COORD_CD                112571 non-null  int64  \n",
      " 15  Y_COORD_CD                112571 non-null  int64  \n",
      " 16  Latitude                  112571 non-null  float64\n",
      " 17  Longitude                 112571 non-null  float64\n",
      " 18  New Georeferenced Column  112571 non-null  object \n",
      "dtypes: float64(4), int64(5), object(10)\n",
      "memory usage: 16.3+ MB\n"
     ]
    }
   ],
   "source": [
    "df.info()"
   ]
  },
  {
   "cell_type": "markdown",
   "metadata": {},
   "source": [
    "The datatype looks good for our group to explore."
   ]
  },
  {
   "cell_type": "markdown",
   "metadata": {},
   "source": [
    "### With each numerical column, how are values distributed?"
   ]
  },
  {
   "cell_type": "code",
<<<<<<< HEAD
   "execution_count": 6,
=======
   "execution_count": 16,
>>>>>>> a9b3471d86d76f149b275c365025948bd91ffbc3
   "metadata": {},
   "outputs": [
    {
     "data": {
      "text/html": [
       "<div>\n",
       "<style scoped>\n",
       "    .dataframe tbody tr th:only-of-type {\n",
       "        vertical-align: middle;\n",
       "    }\n",
       "\n",
       "    .dataframe tbody tr th {\n",
       "        vertical-align: top;\n",
       "    }\n",
       "\n",
       "    .dataframe thead th {\n",
       "        text-align: right;\n",
       "    }\n",
       "</style>\n",
       "<table border=\"1\" class=\"dataframe\">\n",
       "  <thead>\n",
       "    <tr style=\"text-align: right;\">\n",
       "      <th></th>\n",
       "      <th>ARREST_KEY</th>\n",
       "      <th>PD_CD</th>\n",
       "      <th>KY_CD</th>\n",
       "      <th>ARREST_PRECINCT</th>\n",
       "      <th>JURISDICTION_CODE</th>\n",
       "      <th>X_COORD_CD</th>\n",
       "      <th>Y_COORD_CD</th>\n",
       "      <th>Latitude</th>\n",
       "      <th>Longitude</th>\n",
       "    </tr>\n",
       "  </thead>\n",
       "  <tbody>\n",
       "    <tr>\n",
       "      <th>missing_ratio</th>\n",
       "      <td>0.0</td>\n",
       "      <td>0.4</td>\n",
       "      <td>0.4</td>\n",
       "      <td>0.0</td>\n",
       "      <td>0.0</td>\n",
       "      <td>0.0</td>\n",
       "      <td>0.0</td>\n",
       "      <td>0.000000</td>\n",
       "      <td>0.000000</td>\n",
       "    </tr>\n",
       "    <tr>\n",
       "      <th>min</th>\n",
       "      <td>261180920.0</td>\n",
       "      <td>12.0</td>\n",
       "      <td>101.0</td>\n",
       "      <td>1.0</td>\n",
       "      <td>0.0</td>\n",
       "      <td>0.0</td>\n",
       "      <td>0.0</td>\n",
       "      <td>0.000000</td>\n",
       "      <td>-74.251844</td>\n",
       "    </tr>\n",
       "    <tr>\n",
       "      <th>max</th>\n",
       "      <td>270661337.0</td>\n",
       "      <td>997.0</td>\n",
       "      <td>995.0</td>\n",
       "      <td>123.0</td>\n",
       "      <td>97.0</td>\n",
       "      <td>1066940.0</td>\n",
       "      <td>271819.0</td>\n",
       "      <td>40.912714</td>\n",
       "      <td>0.000000</td>\n",
       "    </tr>\n",
       "  </tbody>\n",
       "</table>\n",
       "</div>"
      ],
      "text/plain": [
       "                ARREST_KEY  PD_CD  KY_CD  ARREST_PRECINCT  JURISDICTION_CODE  \\\n",
       "missing_ratio          0.0    0.4    0.4              0.0                0.0   \n",
       "min            261180920.0   12.0  101.0              1.0                0.0   \n",
       "max            270661337.0  997.0  995.0            123.0               97.0   \n",
       "\n",
       "               X_COORD_CD  Y_COORD_CD   Latitude  Longitude  \n",
       "missing_ratio         0.0         0.0   0.000000   0.000000  \n",
       "min                   0.0         0.0   0.000000 -74.251844  \n",
       "max             1066940.0    271819.0  40.912714   0.000000  "
      ]
     },
<<<<<<< HEAD
     "execution_count": 6,
=======
     "execution_count": 16,
>>>>>>> a9b3471d86d76f149b275c365025948bd91ffbc3
     "metadata": {},
     "output_type": "execute_result"
    }
   ],
   "source": [
    "num_col_info_df = df.select_dtypes(exclude='object')\n",
    "def missing_ratio(s):\n",
    "    return (s.isna().mean() * 100).round(1)\n",
    "\n",
    "\n",
    "num_col_info_df = num_col_info_df.agg([missing_ratio, \"min\", \"max\"])\n",
    "num_col_info_df"
   ]
  },
  {
   "cell_type": "markdown",
   "metadata": {},
   "source": [
    "### With each categorical column, how are values distributed?"
   ]
  },
  {
   "cell_type": "code",
<<<<<<< HEAD
   "execution_count": 7,
=======
   "execution_count": 17,
>>>>>>> a9b3471d86d76f149b275c365025948bd91ffbc3
   "metadata": {},
   "outputs": [
    {
     "data": {
      "text/html": [
       "<div>\n",
       "<style scoped>\n",
       "    .dataframe tbody tr th:only-of-type {\n",
       "        vertical-align: middle;\n",
       "    }\n",
       "\n",
       "    .dataframe tbody tr th {\n",
       "        vertical-align: top;\n",
       "    }\n",
       "\n",
       "    .dataframe thead th {\n",
       "        text-align: right;\n",
       "    }\n",
       "</style>\n",
       "<table border=\"1\" class=\"dataframe\">\n",
       "  <thead>\n",
       "    <tr style=\"text-align: right;\">\n",
       "      <th></th>\n",
       "      <th>ARREST_DATE</th>\n",
       "      <th>PD_DESC</th>\n",
       "      <th>OFNS_DESC</th>\n",
       "      <th>LAW_CODE</th>\n",
       "      <th>LAW_CAT_CD</th>\n",
       "      <th>ARREST_BORO</th>\n",
       "      <th>AGE_GROUP</th>\n",
       "      <th>PERP_SEX</th>\n",
       "      <th>PERP_RACE</th>\n",
       "      <th>New Georeferenced Column</th>\n",
       "    </tr>\n",
       "  </thead>\n",
       "  <tbody>\n",
       "    <tr>\n",
       "      <th>missing_ratio</th>\n",
       "      <td>0.0</td>\n",
       "      <td>0.0</td>\n",
       "      <td>0.0</td>\n",
       "      <td>0.0</td>\n",
       "      <td>0.8</td>\n",
       "      <td>0.0</td>\n",
       "      <td>0.0</td>\n",
       "      <td>0.0</td>\n",
       "      <td>0.0</td>\n",
       "      <td>0.0</td>\n",
       "    </tr>\n",
       "  </tbody>\n",
       "</table>\n",
       "</div>"
      ],
      "text/plain": [
       "               ARREST_DATE  PD_DESC  OFNS_DESC  LAW_CODE  LAW_CAT_CD  \\\n",
       "missing_ratio          0.0      0.0        0.0       0.0         0.8   \n",
       "\n",
       "               ARREST_BORO  AGE_GROUP  PERP_SEX  PERP_RACE  \\\n",
       "missing_ratio          0.0        0.0       0.0        0.0   \n",
       "\n",
       "               New Georeferenced Column  \n",
       "missing_ratio                       0.0  "
      ]
     },
<<<<<<< HEAD
     "execution_count": 7,
=======
     "execution_count": 17,
>>>>>>> a9b3471d86d76f149b275c365025948bd91ffbc3
     "metadata": {},
     "output_type": "execute_result"
    }
   ],
   "source": [
    "cate_col_info_df = df.select_dtypes(include='object')\n",
    "cate_col_info_df = cate_col_info_df.agg([missing_ratio])\n",
    "cate_col_info_df"
   ]
  },
  {
   "cell_type": "code",
<<<<<<< HEAD
   "execution_count": 8,
=======
   "execution_count": 18,
>>>>>>> a9b3471d86d76f149b275c365025948bd91ffbc3
   "metadata": {},
   "outputs": [
    {
     "name": "stdout",
     "output_type": "stream",
     "text": [
      "3 unique values in column ARREST_DATE:  ['02/08/2023' '03/24/2023' '03/28/2023']\n",
      "3 unique values in column PD_DESC:  ['ROBBERY,CAR JACKING' 'RAPE 2' 'RAPE 1']\n",
      "3 unique values in column OFNS_DESC:  ['ROBBERY' 'RAPE' 'FELONY ASSAULT']\n",
      "3 unique values in column LAW_CODE:  ['PL 1601003' 'PL 1303001' 'PL 1303501']\n",
      "3 unique values in column LAW_CAT_CD:  ['F' '9' 'M']\n",
      "3 unique values in column ARREST_BORO:  ['K' 'S' 'Q']\n",
      "3 unique values in column AGE_GROUP:  ['25-44' '18-24' '<18']\n",
      "3 unique values in column PERP_SEX:  ['F' 'M' 'U']\n",
      "3 unique values in column PERP_RACE:  ['WHITE' 'BLACK' 'WHITE HISPANIC']\n",
      "3 unique values in column New Georeferenced Column:  ['POINT (-73.979638 40.597407)'\n",
      " 'POINT (-74.0770327198983 40.6447209438691)'\n",
      " 'POINT (-73.8740035373971 40.7434812638841)']\n"
     ]
    }
   ],
   "source": [
    "for col in cate_col_info_df.columns:\n",
    "    print(f\"3 unique values in column {col}:  {df[col].unique()[0:3]}\")"
   ]
  },
  {
   "cell_type": "markdown",
   "metadata": {},
   "source": [
    "The values look normal in categorical column."
   ]
  },
  {
   "cell_type": "markdown",
   "metadata": {},
   "source": [
    "## 3. Simple Visualization <a class=\"anchor\" id=\"cc3\"></a>"
   ]
  },
  {
   "cell_type": "code",
   "execution_count": 21,
   "metadata": {},
   "outputs": [
    {
     "data": {
      "image/png": "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",
      "text/plain": [
       "<Figure size 640x480 with 1 Axes>"
      ]
     },
     "metadata": {},
     "output_type": "display_data"
    }
   ],
   "source": [
    "trend_arrest = {}\n",
    "for i in range(len(df)):\n",
    "    mon_occur = df['ARREST_DATE'][i].split('/')[0]\n",
    "    if mon_occur not in trend_arrest.keys():\n",
    "        trend_arrest[mon_occur] = 0\n",
    "    else:\n",
    "        trend_arrest[mon_occur] +=1\n",
    "trend_arrest_key = list(trend_arrest.keys())\n",
    "trend_arrest_key.sort()\n",
    "trend_arrest = {i: trend_arrest[i] for i in trend_arrest_key}\n",
    "\n",
    "plt.plot(trend_arrest.keys(), trend_arrest.values())\n",
    "plt.xlabel('Month')\n",
    "plt.ylabel('Number of arrest')\n",
    "plt.title('Arrest Trends Over Time')\n",
    "plt.ylim((16000, 21000))\n",
    "plt.show()"
   ]
  },
  {
   "cell_type": "markdown",
   "metadata": {},
   "source": [
    "Comment here"
   ]
  },
  {
   "cell_type": "code",
   "execution_count": 41,
   "metadata": {},
   "outputs": [
    {
     "data": {
      "image/png": "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",
      "text/plain": [
       "<Figure size 1000x700 with 1 Axes>"
      ]
     },
     "metadata": {},
     "output_type": "display_data"
    }
   ],
   "source": [
    "trend_age_group = {}\n",
    "for i in range(len(df)):\n",
    "    mon_occur = df['AGE_GROUP'][i]\n",
    "    if mon_occur not in trend_age_group.keys():\n",
    "        trend_age_group[mon_occur] = 0\n",
    "    else:\n",
    "        trend_age_group[mon_occur] +=1\n",
    "trend_age_key = list(trend_age_group.keys())\n",
    "trend_age_key.sort()\n",
    "trend_age_group = {i: trend_age_group[i] for i in trend_age_key}\n",
    "\n",
    "plt.figure(figsize=(10, 7))\n",
    "plt.pie(trend_age_group.values(), autopct='%1.1f%%') \n",
    "plt.legend(trend_age_group.keys(), loc='upper right', bbox_to_anchor=(1, 1), fontsize=\"medium\")\n",
    "plt.title('Distribution of Arrests by Age Group')\n",
    "plt.show()"
   ]
  },
  {
   "cell_type": "markdown",
   "metadata": {},
   "source": [
    "Comment here"
   ]
  },
  {
   "cell_type": "code",
   "execution_count": 9,
   "metadata": {},
   "outputs": [
    {
     "data": {
      "text/html": [
       "<div>\n",
       "<style scoped>\n",
       "    .dataframe tbody tr th:only-of-type {\n",
       "        vertical-align: middle;\n",
       "    }\n",
       "\n",
       "    .dataframe tbody tr th {\n",
       "        vertical-align: top;\n",
       "    }\n",
       "\n",
       "    .dataframe thead th {\n",
       "        text-align: right;\n",
       "    }\n",
       "</style>\n",
       "<table border=\"1\" class=\"dataframe\">\n",
       "  <thead>\n",
       "    <tr style=\"text-align: right;\">\n",
       "      <th></th>\n",
       "      <th>ARREST_KEY</th>\n",
       "      <th>ARREST_DATE</th>\n",
       "      <th>PD_CD</th>\n",
       "      <th>PD_DESC</th>\n",
       "      <th>KY_CD</th>\n",
       "      <th>OFNS_DESC</th>\n",
       "      <th>LAW_CODE</th>\n",
       "      <th>LAW_CAT_CD</th>\n",
       "      <th>ARREST_BORO</th>\n",
       "      <th>ARREST_PRECINCT</th>\n",
       "      <th>JURISDICTION_CODE</th>\n",
       "      <th>AGE_GROUP</th>\n",
       "      <th>PERP_SEX</th>\n",
       "      <th>PERP_RACE</th>\n",
       "      <th>X_COORD_CD</th>\n",
       "      <th>Y_COORD_CD</th>\n",
       "      <th>Latitude</th>\n",
       "      <th>Longitude</th>\n",
       "      <th>New Georeferenced Column</th>\n",
       "    </tr>\n",
       "  </thead>\n",
       "  <tbody>\n",
       "    <tr>\n",
       "      <th>0</th>\n",
       "      <td>263238742</td>\n",
       "      <td>02/08/2023</td>\n",
       "      <td>380.0</td>\n",
       "      <td>ROBBERY,CAR JACKING</td>\n",
       "      <td>105.0</td>\n",
       "      <td>ROBBERY</td>\n",
       "      <td>PL 1601003</td>\n",
       "      <td>F</td>\n",
       "      <td>K</td>\n",
       "      <td>62</td>\n",
       "      <td>0</td>\n",
       "      <td>25-44</td>\n",
       "      <td>F</td>\n",
       "      <td>WHITE</td>\n",
       "      <td>989904</td>\n",
       "      <td>156928</td>\n",
       "      <td>40.597407</td>\n",
       "      <td>-73.979638</td>\n",
       "      <td>POINT (-73.979638 40.597407)</td>\n",
       "    </tr>\n",
       "    <tr>\n",
       "      <th>1</th>\n",
       "      <td>265590985</td>\n",
       "      <td>03/24/2023</td>\n",
       "      <td>155.0</td>\n",
       "      <td>RAPE 2</td>\n",
       "      <td>104.0</td>\n",
       "      <td>RAPE</td>\n",
       "      <td>PL 1303001</td>\n",
       "      <td>F</td>\n",
       "      <td>S</td>\n",
       "      <td>120</td>\n",
       "      <td>0</td>\n",
       "      <td>18-24</td>\n",
       "      <td>M</td>\n",
       "      <td>BLACK</td>\n",
       "      <td>962873</td>\n",
       "      <td>174172</td>\n",
       "      <td>40.644721</td>\n",
       "      <td>-74.077033</td>\n",
       "      <td>POINT (-74.0770327198983 40.6447209438691)</td>\n",
       "    </tr>\n",
       "    <tr>\n",
       "      <th>2</th>\n",
       "      <td>265798132</td>\n",
       "      <td>03/28/2023</td>\n",
       "      <td>157.0</td>\n",
       "      <td>RAPE 1</td>\n",
       "      <td>104.0</td>\n",
       "      <td>RAPE</td>\n",
       "      <td>PL 1303501</td>\n",
       "      <td>F</td>\n",
       "      <td>S</td>\n",
       "      <td>120</td>\n",
       "      <td>0</td>\n",
       "      <td>25-44</td>\n",
       "      <td>M</td>\n",
       "      <td>BLACK</td>\n",
       "      <td>962873</td>\n",
       "      <td>174172</td>\n",
       "      <td>40.644721</td>\n",
       "      <td>-74.077033</td>\n",
       "      <td>POINT (-74.0770327198983 40.6447209438691)</td>\n",
       "    </tr>\n",
       "    <tr>\n",
       "      <th>3</th>\n",
       "      <td>269233687</td>\n",
       "      <td>06/02/2023</td>\n",
       "      <td>157.0</td>\n",
       "      <td>RAPE 1</td>\n",
       "      <td>104.0</td>\n",
       "      <td>RAPE</td>\n",
       "      <td>PL 1303501</td>\n",
       "      <td>F</td>\n",
       "      <td>Q</td>\n",
       "      <td>110</td>\n",
       "      <td>0</td>\n",
       "      <td>25-44</td>\n",
       "      <td>M</td>\n",
       "      <td>WHITE HISPANIC</td>\n",
       "      <td>1019164</td>\n",
       "      <td>210169</td>\n",
       "      <td>40.743481</td>\n",
       "      <td>-73.874004</td>\n",
       "      <td>POINT (-73.8740035373971 40.7434812638841)</td>\n",
       "    </tr>\n",
       "    <tr>\n",
       "      <th>4</th>\n",
       "      <td>270519574</td>\n",
       "      <td>06/28/2023</td>\n",
       "      <td>157.0</td>\n",
       "      <td>RAPE 1</td>\n",
       "      <td>104.0</td>\n",
       "      <td>RAPE</td>\n",
       "      <td>PL 1303501</td>\n",
       "      <td>F</td>\n",
       "      <td>K</td>\n",
       "      <td>84</td>\n",
       "      <td>0</td>\n",
       "      <td>25-44</td>\n",
       "      <td>M</td>\n",
       "      <td>BLACK HISPANIC</td>\n",
       "      <td>988902</td>\n",
       "      <td>192641</td>\n",
       "      <td>40.695439</td>\n",
       "      <td>-73.983225</td>\n",
       "      <td>POINT (-73.9832253756043 40.6954388081238)</td>\n",
       "    </tr>\n",
       "    <tr>\n",
       "      <th>5</th>\n",
       "      <td>261548646</td>\n",
       "      <td>01/07/2023</td>\n",
       "      <td>105.0</td>\n",
       "      <td>STRANGULATION 1ST</td>\n",
       "      <td>106.0</td>\n",
       "      <td>FELONY ASSAULT</td>\n",
       "      <td>PL 1211200</td>\n",
       "      <td>F</td>\n",
       "      <td>M</td>\n",
       "      <td>30</td>\n",
       "      <td>0</td>\n",
       "      <td>25-44</td>\n",
       "      <td>M</td>\n",
       "      <td>BLACK</td>\n",
       "      <td>1000749</td>\n",
       "      <td>241092</td>\n",
       "      <td>40.828405</td>\n",
       "      <td>-73.940382</td>\n",
       "      <td>POINT (-73.940382 40.828405)</td>\n",
       "    </tr>\n",
       "    <tr>\n",
       "      <th>6</th>\n",
       "      <td>261926460</td>\n",
       "      <td>01/14/2023</td>\n",
       "      <td>263.0</td>\n",
       "      <td>ARSON 2,3,4</td>\n",
       "      <td>114.0</td>\n",
       "      <td>ARSON</td>\n",
       "      <td>PL 1501001</td>\n",
       "      <td>F</td>\n",
       "      <td>K</td>\n",
       "      <td>63</td>\n",
       "      <td>0</td>\n",
       "      <td>25-44</td>\n",
       "      <td>M</td>\n",
       "      <td>BLACK</td>\n",
       "      <td>1000520</td>\n",
       "      <td>168264</td>\n",
       "      <td>40.628508</td>\n",
       "      <td>-73.941384</td>\n",
       "      <td>POINT (-73.941384 40.628508)</td>\n",
       "    </tr>\n",
       "    <tr>\n",
       "      <th>7</th>\n",
       "      <td>262020709</td>\n",
       "      <td>01/17/2023</td>\n",
       "      <td>NaN</td>\n",
       "      <td>(null)</td>\n",
       "      <td>NaN</td>\n",
       "      <td>(null)</td>\n",
       "      <td>CPL5700600</td>\n",
       "      <td>9</td>\n",
       "      <td>Q</td>\n",
       "      <td>102</td>\n",
       "      <td>0</td>\n",
       "      <td>25-44</td>\n",
       "      <td>M</td>\n",
       "      <td>BLACK</td>\n",
       "      <td>1032501</td>\n",
       "      <td>198800</td>\n",
       "      <td>40.712206</td>\n",
       "      <td>-73.825952</td>\n",
       "      <td>POINT (-73.825952 40.712206)</td>\n",
       "    </tr>\n",
       "    <tr>\n",
       "      <th>8</th>\n",
       "      <td>262853818</td>\n",
       "      <td>02/01/2023</td>\n",
       "      <td>105.0</td>\n",
       "      <td>STRANGULATION 1ST</td>\n",
       "      <td>106.0</td>\n",
       "      <td>FELONY ASSAULT</td>\n",
       "      <td>PL 1211200</td>\n",
       "      <td>F</td>\n",
       "      <td>B</td>\n",
       "      <td>42</td>\n",
       "      <td>0</td>\n",
       "      <td>25-44</td>\n",
       "      <td>M</td>\n",
       "      <td>BLACK</td>\n",
       "      <td>1008754</td>\n",
       "      <td>238895</td>\n",
       "      <td>40.822355</td>\n",
       "      <td>-73.911463</td>\n",
       "      <td>POINT (-73.911463 40.822355)</td>\n",
       "    </tr>\n",
       "    <tr>\n",
       "      <th>9</th>\n",
       "      <td>263314679</td>\n",
       "      <td>02/09/2023</td>\n",
       "      <td>NaN</td>\n",
       "      <td>(null)</td>\n",
       "      <td>NaN</td>\n",
       "      <td>(null)</td>\n",
       "      <td>CPL5700600</td>\n",
       "      <td>9</td>\n",
       "      <td>Q</td>\n",
       "      <td>102</td>\n",
       "      <td>0</td>\n",
       "      <td>25-44</td>\n",
       "      <td>F</td>\n",
       "      <td>BLACK</td>\n",
       "      <td>1032501</td>\n",
       "      <td>198800</td>\n",
       "      <td>40.712206</td>\n",
       "      <td>-73.825952</td>\n",
       "      <td>POINT (-73.825952 40.712206)</td>\n",
       "    </tr>\n",
       "  </tbody>\n",
       "</table>\n",
       "</div>"
      ],
      "text/plain": [
       "   ARREST_KEY ARREST_DATE  PD_CD              PD_DESC  KY_CD       OFNS_DESC  \\\n",
       "0   263238742  02/08/2023  380.0  ROBBERY,CAR JACKING  105.0         ROBBERY   \n",
       "1   265590985  03/24/2023  155.0               RAPE 2  104.0            RAPE   \n",
       "2   265798132  03/28/2023  157.0               RAPE 1  104.0            RAPE   \n",
       "3   269233687  06/02/2023  157.0               RAPE 1  104.0            RAPE   \n",
       "4   270519574  06/28/2023  157.0               RAPE 1  104.0            RAPE   \n",
       "5   261548646  01/07/2023  105.0    STRANGULATION 1ST  106.0  FELONY ASSAULT   \n",
       "6   261926460  01/14/2023  263.0          ARSON 2,3,4  114.0           ARSON   \n",
       "7   262020709  01/17/2023    NaN               (null)    NaN          (null)   \n",
       "8   262853818  02/01/2023  105.0    STRANGULATION 1ST  106.0  FELONY ASSAULT   \n",
       "9   263314679  02/09/2023    NaN               (null)    NaN          (null)   \n",
       "\n",
       "     LAW_CODE LAW_CAT_CD ARREST_BORO  ARREST_PRECINCT  JURISDICTION_CODE  \\\n",
       "0  PL 1601003          F           K               62                  0   \n",
       "1  PL 1303001          F           S              120                  0   \n",
       "2  PL 1303501          F           S              120                  0   \n",
       "3  PL 1303501          F           Q              110                  0   \n",
       "4  PL 1303501          F           K               84                  0   \n",
       "5  PL 1211200          F           M               30                  0   \n",
       "6  PL 1501001          F           K               63                  0   \n",
       "7  CPL5700600          9           Q              102                  0   \n",
       "8  PL 1211200          F           B               42                  0   \n",
       "9  CPL5700600          9           Q              102                  0   \n",
       "\n",
       "  AGE_GROUP PERP_SEX       PERP_RACE  X_COORD_CD  Y_COORD_CD   Latitude  \\\n",
       "0     25-44        F           WHITE      989904      156928  40.597407   \n",
       "1     18-24        M           BLACK      962873      174172  40.644721   \n",
       "2     25-44        M           BLACK      962873      174172  40.644721   \n",
       "3     25-44        M  WHITE HISPANIC     1019164      210169  40.743481   \n",
       "4     25-44        M  BLACK HISPANIC      988902      192641  40.695439   \n",
       "5     25-44        M           BLACK     1000749      241092  40.828405   \n",
       "6     25-44        M           BLACK     1000520      168264  40.628508   \n",
       "7     25-44        M           BLACK     1032501      198800  40.712206   \n",
       "8     25-44        M           BLACK     1008754      238895  40.822355   \n",
       "9     25-44        F           BLACK     1032501      198800  40.712206   \n",
       "\n",
       "   Longitude                    New Georeferenced Column  \n",
       "0 -73.979638                POINT (-73.979638 40.597407)  \n",
       "1 -74.077033  POINT (-74.0770327198983 40.6447209438691)  \n",
       "2 -74.077033  POINT (-74.0770327198983 40.6447209438691)  \n",
       "3 -73.874004  POINT (-73.8740035373971 40.7434812638841)  \n",
       "4 -73.983225  POINT (-73.9832253756043 40.6954388081238)  \n",
       "5 -73.940382                POINT (-73.940382 40.828405)  \n",
       "6 -73.941384                POINT (-73.941384 40.628508)  \n",
       "7 -73.825952                POINT (-73.825952 40.712206)  \n",
       "8 -73.911463                POINT (-73.911463 40.822355)  \n",
       "9 -73.825952                POINT (-73.825952 40.712206)  "
      ]
     },
     "execution_count": 9,
     "metadata": {},
     "output_type": "execute_result"
    }
   ],
   "source": [
    "df.head(10)"
   ]
  }
 ],
 "metadata": {
  "kernelspec": {
   "display_name": "Python 3",
   "language": "python",
   "name": "python3"
  },
  "language_info": {
   "codemirror_mode": {
    "name": "ipython",
    "version": 3
   },
   "file_extension": ".py",
   "mimetype": "text/x-python",
   "name": "python",
   "nbconvert_exporter": "python",
   "pygments_lexer": "ipython3",
   "version": "3.9.18"
  }
 },
 "nbformat": 4,
 "nbformat_minor": 2
}
